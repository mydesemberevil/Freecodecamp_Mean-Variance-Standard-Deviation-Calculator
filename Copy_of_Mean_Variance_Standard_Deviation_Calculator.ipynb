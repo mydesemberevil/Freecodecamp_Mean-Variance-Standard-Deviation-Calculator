{
  "nbformat": 4,
  "nbformat_minor": 0,
  "metadata": {
    "colab": {
      "provenance": [],
      "authorship_tag": "ABX9TyPBKecD7ANYvVVXfsFTRuVD",
      "include_colab_link": true
    },
    "kernelspec": {
      "name": "python3",
      "display_name": "Python 3"
    },
    "language_info": {
      "name": "python"
    }
  },
  "cells": [
    {
      "cell_type": "markdown",
      "metadata": {
        "id": "view-in-github",
        "colab_type": "text"
      },
      "source": [
        "<a href=\"https://colab.research.google.com/github/mydesemberevil/Freecodecamp_Mean-Variance-Standard-Deviation-Calculator/blob/main/Copy_of_Mean_Variance_Standard_Deviation_Calculator.ipynb\" target=\"_parent\"><img src=\"https://colab.research.google.com/assets/colab-badge.svg\" alt=\"Open In Colab\"/></a>"
      ]
    },
    {
      "cell_type": "code",
      "execution_count": 1,
      "metadata": {
        "id": "grF3dX2DaLWu"
      },
      "outputs": [],
      "source": [
        "import numpy as np\n"
      ]
    },
    {
      "cell_type": "code",
      "source": [
        "def calculate(lists):\n",
        "\n",
        "    if len(lists)==9:\n",
        "\n",
        "        array_t = np.array(lists)\n",
        "        array = array_t.reshape(3, 3)\n",
        "        #print(array)\n",
        "        calculations = {\n",
        "            'mean': [np.mean(array, axis=0).tolist(),\n",
        "                     np.mean(array, axis=1).tolist(),\n",
        "                     np.mean(array)],\n",
        "\n",
        "            'variance': [np.var(array, axis=0).tolist(),\n",
        "                         np.var(array, axis=1).tolist(),\n",
        "                         np.var(array.flatten())],\n",
        "\n",
        "            'standard deviation': [np.std(array, axis=0).tolist(),\n",
        "                                   np.std(array, axis=1).tolist(),\n",
        "                                   np.std(array.flatten())],\n",
        "\n",
        "            'max': [np.max(array, axis=0).tolist(),\n",
        "                    np.max(array, axis=1).tolist(),\n",
        "                    np.max(array.flatten())],\n",
        "\n",
        "            'min': [np.min(array, axis=0).tolist(),\n",
        "                    np.min(array, axis=1).tolist(),\n",
        "                    np.min(array.flatten())],\n",
        "\n",
        "            'sum': [np.sum(array, axis=0).tolist(),\n",
        "                    np.sum(array, axis=1).tolist(),\n",
        "                    np.sum(array.flatten())]\n",
        "            }\n",
        "    else:\n",
        "        raise ValueError('List must contain nine numbers.')\n",
        "    return calculations"
      ],
      "metadata": {
        "id": "wMHTAbkTaoCW"
      },
      "execution_count": 2,
      "outputs": []
    },
    {
      "cell_type": "code",
      "source": [
        "list = [1,2,3,4,5,6,7,8,9]\n",
        "calculate(list)\n",
        "\n"
      ],
      "metadata": {
        "colab": {
          "base_uri": "https://localhost:8080/"
        },
        "id": "cQ6er6p2dx4v",
        "outputId": "eb545519-6287-4269-d955-f41b80d6b8e0"
      },
      "execution_count": 3,
      "outputs": [
        {
          "output_type": "execute_result",
          "data": {
            "text/plain": [
              "{'mean': [[4.0, 5.0, 6.0], [2.0, 5.0, 8.0], 5.0],\n",
              " 'variance': [[6.0, 6.0, 6.0],\n",
              "  [0.6666666666666666, 0.6666666666666666, 0.6666666666666666],\n",
              "  6.666666666666667],\n",
              " 'standard deviation': [[2.449489742783178,\n",
              "   2.449489742783178,\n",
              "   2.449489742783178],\n",
              "  [0.816496580927726, 0.816496580927726, 0.816496580927726],\n",
              "  2.581988897471611],\n",
              " 'max': [[7, 8, 9], [3, 6, 9], 9],\n",
              " 'min': [[1, 2, 3], [1, 4, 7], 1],\n",
              " 'sum': [[12, 15, 18], [6, 15, 24], 45]}"
            ]
          },
          "metadata": {},
          "execution_count": 3
        }
      ]
    }
  ]
}