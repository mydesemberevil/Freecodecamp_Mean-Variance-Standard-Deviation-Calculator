{
  "nbformat": 4,
  "nbformat_minor": 0,
  "metadata": {
    "colab": {
      "provenance": [],
      "authorship_tag": "ABX9TyMXotx5PSq34Zjfxpm4oa+s",
      "include_colab_link": true
    },
    "kernelspec": {
      "name": "python3",
      "display_name": "Python 3"
    },
    "language_info": {
      "name": "python"
    }
  },
  "cells": [
    {
      "cell_type": "markdown",
      "metadata": {
        "id": "view-in-github",
        "colab_type": "text"
      },
      "source": [
        "<a href=\"https://colab.research.google.com/github/mydesemberevil/Freecodecamp_Mean-Variance-Standard-Deviation-Calculator/blob/main/Mean_Variance_Standard_Deviation_Calculator.ipynb\" target=\"_parent\"><img src=\"https://colab.research.google.com/assets/colab-badge.svg\" alt=\"Open In Colab\"/></a>"
      ]
    },
    {
      "cell_type": "code",
      "execution_count": 2,
      "metadata": {
        "id": "grF3dX2DaLWu"
      },
      "outputs": [],
      "source": [
        "import numpy as np\n",
        "import pandas as pd\n",
        "import matplotlib.pyplot as plt"
      ]
    },
    {
      "cell_type": "code",
      "source": [
        "def calculate(lists):\n",
        "\n",
        "    if len(lists)==9:\n",
        "\n",
        "        array_t = np.array(lists)\n",
        "        array = array_t.reshape(3, 3)\n",
        "        #print(array)\n",
        "        calculations = {\n",
        "            'mean': [np.mean(array, axis=0).tolist(),\n",
        "                     np.mean(array, axis=1).tolist(),\n",
        "                     np.mean(array)],\n",
        "\n",
        "            'variance': [np.var(array, axis=0).tolist(),\n",
        "                         np.var(array, axis=1).tolist(),\n",
        "                         np.var(array.flatten())],\n",
        "\n",
        "            'standard deviation': [np.std(array, axis=0).tolist(),\n",
        "                                   np.std(array, axis=1).tolist(),\n",
        "                                   np.std(array.flatten())],\n",
        "\n",
        "            'max': [np.max(array, axis=0).tolist(),\n",
        "                    np.max(array, axis=1).tolist(),\n",
        "                    np.max(array.flatten())],\n",
        "\n",
        "            'min': [np.min(array, axis=0).tolist(),\n",
        "                    np.min(array, axis=1).tolist(),\n",
        "                    np.min(array.flatten())],\n",
        "\n",
        "            'sum': [np.sum(array, axis=0).tolist(),\n",
        "                    np.sum(array, axis=1).tolist(),\n",
        "                    np.sum(array.flatten())]\n",
        "            }\n",
        "    else:\n",
        "        raise ValueError('List must contain nine numbers.')\n",
        "    return calculations"
      ],
      "metadata": {
        "id": "wMHTAbkTaoCW"
      },
      "execution_count": 3,
      "outputs": []
    }
  ]
}