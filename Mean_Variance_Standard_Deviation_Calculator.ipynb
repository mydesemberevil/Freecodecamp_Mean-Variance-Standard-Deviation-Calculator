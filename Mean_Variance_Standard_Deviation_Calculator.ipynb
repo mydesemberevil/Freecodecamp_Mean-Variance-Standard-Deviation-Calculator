{
  "nbformat": 4,
  "nbformat_minor": 0,
  "metadata": {
    "colab": {
      "provenance": [],
      "authorship_tag": "ABX9TyPxTt3dUIKRlOgT5GRdjMOh",
      "include_colab_link": true
    },
    "kernelspec": {
      "name": "python3",
      "display_name": "Python 3"
    },
    "language_info": {
      "name": "python"
    }
  },
  "cells": [
    {
      "cell_type": "markdown",
      "metadata": {
        "id": "view-in-github",
        "colab_type": "text"
      },
      "source": [
        "<a href=\"https://colab.research.google.com/github/mydesemberevil/Freecodecamp_Mean-Variance-Standard-Deviation-Calculator/blob/main/Mean_Variance_Standard_Deviation_Calculator.ipynb\" target=\"_parent\"><img src=\"https://colab.research.google.com/assets/colab-badge.svg\" alt=\"Open In Colab\"/></a>"
      ]
    },
    {
      "cell_type": "code",
      "execution_count": 1,
      "metadata": {
        "id": "grF3dX2DaLWu"
      },
      "outputs": [],
      "source": [
        "import numpy as np\n"
      ]
    },
    {
      "cell_type": "code",
      "source": [
        "def calculate(lists):\n",
        "\n",
        "    if len(lists)==9:\n",
        "\n",
        "        array_t = np.array(lists)\n",
        "        array = array_t.reshape(3, 3)\n",
        "        #print(array)\n",
        "        calculations = {\n",
        "            'mean': [np.mean(array, axis=0).tolist(),\n",
        "                     np.mean(array, axis=1).tolist(),\n",
        "                     np.mean(array)],\n",
        "\n",
        "            'variance': [np.var(array, axis=0).tolist(),\n",
        "                         np.var(array, axis=1).tolist(),\n",
        "                         np.var(array.flatten())],\n",
        "\n",
        "            'standard deviation': [np.std(array, axis=0).tolist(),\n",
        "                                   np.std(array, axis=1).tolist(),\n",
        "                                   np.std(array.flatten())],\n",
        "\n",
        "            'max': [np.max(array, axis=0).tolist(),\n",
        "                    np.max(array, axis=1).tolist(),\n",
        "                    np.max(array.flatten())],\n",
        "\n",
        "            'min': [np.min(array, axis=0).tolist(),\n",
        "                    np.min(array, axis=1).tolist(),\n",
        "                    np.min(array.flatten())],\n",
        "\n",
        "            'sum': [np.sum(array, axis=0).tolist(),\n",
        "                    np.sum(array, axis=1).tolist(),\n",
        "                    np.sum(array.flatten())]\n",
        "            }\n",
        "    else:\n",
        "        raise ValueError('List must contain nine numbers.')\n",
        "    return calculations"
      ],
      "metadata": {
        "id": "wMHTAbkTaoCW"
      },
      "execution_count": 44,
      "outputs": []
    },
    {
      "cell_type": "code",
      "source": [
        "list = [0, 1, 2, 3, 4, 5, 6, 7, 8]\n",
        "calculate(list)"
      ],
      "metadata": {
        "id": "b9g0Bizk91jA",
        "outputId": "1e8d719e-0b97-486a-bd1d-5e0c007e18ef",
        "colab": {
          "base_uri": "https://localhost:8080/",
          "height": 297
        }
      },
      "execution_count": 45,
      "outputs": [
        {
          "output_type": "stream",
          "name": "stdout",
          "text": [
            "[3. 4. 5.] [3. 4. 5.] 4.0\n"
          ]
        },
        {
          "output_type": "error",
          "ename": "TypeError",
          "evalue": "'dict' object is not callable",
          "traceback": [
            "\u001b[0;31m---------------------------------------------------------------------------\u001b[0m",
            "\u001b[0;31mTypeError\u001b[0m                                 Traceback (most recent call last)",
            "\u001b[0;32m<ipython-input-45-d4ba22937d70>\u001b[0m in \u001b[0;36m<cell line: 2>\u001b[0;34m()\u001b[0m\n\u001b[1;32m      1\u001b[0m \u001b[0mlist\u001b[0m \u001b[0;34m=\u001b[0m \u001b[0;34m[\u001b[0m\u001b[0;36m0\u001b[0m\u001b[0;34m,\u001b[0m \u001b[0;36m1\u001b[0m\u001b[0;34m,\u001b[0m \u001b[0;36m2\u001b[0m\u001b[0;34m,\u001b[0m \u001b[0;36m3\u001b[0m\u001b[0;34m,\u001b[0m \u001b[0;36m4\u001b[0m\u001b[0;34m,\u001b[0m \u001b[0;36m5\u001b[0m\u001b[0;34m,\u001b[0m \u001b[0;36m6\u001b[0m\u001b[0;34m,\u001b[0m \u001b[0;36m7\u001b[0m\u001b[0;34m,\u001b[0m \u001b[0;36m8\u001b[0m\u001b[0;34m]\u001b[0m\u001b[0;34m\u001b[0m\u001b[0;34m\u001b[0m\u001b[0m\n\u001b[0;32m----> 2\u001b[0;31m \u001b[0mcalculate\u001b[0m\u001b[0;34m(\u001b[0m\u001b[0mlist\u001b[0m\u001b[0;34m)\u001b[0m\u001b[0;34m\u001b[0m\u001b[0;34m\u001b[0m\u001b[0m\n\u001b[0m",
            "\u001b[0;32m<ipython-input-44-dec1f1cc0291>\u001b[0m in \u001b[0;36mcalculate\u001b[0;34m(lists)\u001b[0m\n\u001b[1;32m     44\u001b[0m \u001b[0;34m\u001b[0m\u001b[0m\n\u001b[1;32m     45\u001b[0m \u001b[0;34m\u001b[0m\u001b[0m\n\u001b[0;32m---> 46\u001b[0;31m     \u001b[0;32mfor\u001b[0m \u001b[0mkey\u001b[0m\u001b[0;34m,\u001b[0m \u001b[0mvalue\u001b[0m \u001b[0;32min\u001b[0m \u001b[0mcalculations\u001b[0m\u001b[0;34m(\u001b[0m\u001b[0;34m)\u001b[0m\u001b[0;34m:\u001b[0m\u001b[0;34m\u001b[0m\u001b[0;34m\u001b[0m\u001b[0m\n\u001b[0m\u001b[1;32m     47\u001b[0m       \u001b[0mprint\u001b[0m\u001b[0;34m(\u001b[0m\u001b[0;34mf\"{key}: {value}\"\u001b[0m\u001b[0;34m)\u001b[0m\u001b[0;34m\u001b[0m\u001b[0;34m\u001b[0m\u001b[0m\n\u001b[1;32m     48\u001b[0m \u001b[0;34m\u001b[0m\u001b[0m\n",
            "\u001b[0;31mTypeError\u001b[0m: 'dict' object is not callable"
          ]
        }
      ]
    }
  ]
}